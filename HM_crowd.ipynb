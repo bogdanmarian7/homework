{
 "cells": [
  {
   "cell_type": "code",
   "execution_count": null,
   "id": "10ce01b8",
   "metadata": {},
   "outputs": [],
   "source": [
    "import pandas as pd\n",
    "import numpy as np\n",
    "import matplotlib.pyplot as plt\n",
    "\n",
    "%matplotlib inline"
   ]
  },
  {
   "cell_type": "code",
   "execution_count": null,
   "id": "f623f15b",
   "metadata": {},
   "outputs": [],
   "source": [
    "annotations_filepath =\"anonymized_project.json\"\n",
    "references_filepath = \"references.json\""
   ]
  },
  {
   "cell_type": "markdown",
   "id": "1e3843f3",
   "metadata": {},
   "source": [
    "## Read annotations json file "
   ]
  },
  {
   "cell_type": "code",
   "execution_count": null,
   "id": "a755d2d6",
   "metadata": {},
   "outputs": [],
   "source": [
    "annotations_read = pd.read_json(annotations_filepath)"
   ]
  },
  {
   "cell_type": "code",
   "execution_count": null,
   "id": "a9323138",
   "metadata": {},
   "outputs": [],
   "source": [
    "annotations_read.head()"
   ]
  },
  {
   "cell_type": "code",
   "execution_count": null,
   "id": "4f9f786e",
   "metadata": {},
   "outputs": [],
   "source": [
    "annotations_read = annotations_read.results"
   ]
  },
  {
   "cell_type": "code",
   "execution_count": null,
   "id": "52c9d674",
   "metadata": {},
   "outputs": [],
   "source": [
    "annotations_read.head()"
   ]
  },
  {
   "cell_type": "code",
   "execution_count": null,
   "id": "b0aed1e6",
   "metadata": {},
   "outputs": [],
   "source": [
    "annotations_read = annotations_read.root_node"
   ]
  },
  {
   "cell_type": "code",
   "execution_count": null,
   "id": "d04d1f8b",
   "metadata": {},
   "outputs": [],
   "source": [
    "type(annotations_read)"
   ]
  },
  {
   "cell_type": "code",
   "execution_count": null,
   "id": "167390eb",
   "metadata": {},
   "outputs": [],
   "source": [
    "for key in annotations_read.keys():\n",
    "    print(key)"
   ]
  },
  {
   "cell_type": "code",
   "execution_count": null,
   "id": "3baf47fe",
   "metadata": {},
   "outputs": [],
   "source": [
    "annotations_read['gui_type']"
   ]
  },
  {
   "cell_type": "code",
   "execution_count": null,
   "id": "908953d4",
   "metadata": {},
   "outputs": [],
   "source": [
    "type(annotations_read['results'])"
   ]
  },
  {
   "cell_type": "code",
   "execution_count": null,
   "id": "b18351b0",
   "metadata": {},
   "outputs": [],
   "source": [
    "annotations_read = annotations_read['results']"
   ]
  },
  {
   "cell_type": "code",
   "execution_count": null,
   "id": "9b7a5177",
   "metadata": {},
   "outputs": [],
   "source": [
    "keys_count = 0\n",
    "for key in annotations_read.keys():\n",
    "    keys_count+=1\n",
    "    print(key)"
   ]
  },
  {
   "cell_type": "code",
   "execution_count": null,
   "id": "d27b4452",
   "metadata": {},
   "outputs": [],
   "source": [
    "keys_count"
   ]
  },
  {
   "cell_type": "code",
   "execution_count": null,
   "id": "aa230d78",
   "metadata": {},
   "outputs": [],
   "source": [
    "for key in annotations_read.keys():\n",
    "    print(type(annotations_read[key]))"
   ]
  },
  {
   "cell_type": "code",
   "execution_count": null,
   "id": "a12c89e2",
   "metadata": {},
   "outputs": [],
   "source": [
    "type(annotations_read['7e8984b6-dff7-4015-865a-b721a2faf681'])"
   ]
  },
  {
   "cell_type": "code",
   "execution_count": null,
   "id": "320078ac",
   "metadata": {},
   "outputs": [],
   "source": [
    "list_of_dicts = []\n",
    "for key in annotations_read.keys():\n",
    "    temp_dict = annotations_read[key]\n",
    "    temp_list = temp_dict['results']\n",
    "    for i in range(len(temp_list)):\n",
    "        list_of_dicts.append(temp_list[i])"
   ]
  },
  {
   "cell_type": "code",
   "execution_count": null,
   "id": "af86a1ca",
   "metadata": {
    "scrolled": true
   },
   "outputs": [],
   "source": [
    "len(list_of_dicts)"
   ]
  },
  {
   "cell_type": "code",
   "execution_count": null,
   "id": "51547adc",
   "metadata": {},
   "outputs": [],
   "source": [
    "annotations_df = pd.json_normalize(list_of_dicts)"
   ]
  },
  {
   "cell_type": "code",
   "execution_count": null,
   "id": "320df7a0",
   "metadata": {
    "scrolled": true
   },
   "outputs": [],
   "source": [
    "annotations_df.head()"
   ]
  },
  {
   "cell_type": "code",
   "execution_count": null,
   "id": "a9a43884",
   "metadata": {
    "scrolled": true
   },
   "outputs": [],
   "source": [
    "annotations_df[['task_input.image_url', 'task_output.answer', 'task_output.cant_solve', 'task_output.corrupt_data','task_output.duration_ms', 'user.vendor_id', 'user.id', 'user.vendor_user_id']].sample(4).to_excel('annotations_sample_raw.xlsx')"
   ]
  },
  {
   "cell_type": "markdown",
   "id": "3334e79d",
   "metadata": {},
   "source": [
    "## Clean annotations dataframe"
   ]
  },
  {
   "cell_type": "code",
   "execution_count": null,
   "id": "1113bde6",
   "metadata": {},
   "outputs": [],
   "source": [
    "# check for missing values in the columns\n",
    "annotations_df.isna().sum()"
   ]
  },
  {
   "cell_type": "code",
   "execution_count": null,
   "id": "eac33631",
   "metadata": {},
   "outputs": [],
   "source": [
    "# check for duplicated rows \n",
    "annotations_df[annotations_df.duplicated()].shape"
   ]
  },
  {
   "cell_type": "code",
   "execution_count": null,
   "id": "3882a0df",
   "metadata": {
    "scrolled": true
   },
   "outputs": [],
   "source": [
    "annotations_df.columns"
   ]
  },
  {
   "cell_type": "code",
   "execution_count": null,
   "id": "06893226",
   "metadata": {},
   "outputs": [],
   "source": [
    "# replace '.' character with '_' in the columns\n",
    "annotations_df.columns = annotations_df.columns.str.replace(\".\", \"_\", regex = False)"
   ]
  },
  {
   "cell_type": "code",
   "execution_count": null,
   "id": "ba73f4a3",
   "metadata": {},
   "outputs": [],
   "source": [
    "annotations_df.columns"
   ]
  },
  {
   "cell_type": "code",
   "execution_count": null,
   "id": "eefc3811",
   "metadata": {},
   "outputs": [],
   "source": [
    "annotations_df.dtypes"
   ]
  },
  {
   "cell_type": "code",
   "execution_count": null,
   "id": "765b96d3",
   "metadata": {},
   "outputs": [],
   "source": [
    "annotations_df.sample(4)"
   ]
  },
  {
   "cell_type": "code",
   "execution_count": null,
   "id": "bc1478a6",
   "metadata": {},
   "outputs": [],
   "source": [
    "# check whether there are rows on which 'task_input_image_url' column value \n",
    "# is different than 'root_input_image_url' column value\n",
    "annotations_df.loc[annotations_df.task_input_image_url != annotations_df.root_input_image_url].shape"
   ]
  },
  {
   "cell_type": "code",
   "execution_count": null,
   "id": "d00ab453",
   "metadata": {},
   "outputs": [],
   "source": [
    "annotations_df.info(memory_usage='deep')"
   ]
  },
  {
   "cell_type": "code",
   "execution_count": null,
   "id": "26ee1bca",
   "metadata": {},
   "outputs": [],
   "source": [
    "# check whether there are rows on which 'project_node_input_id' column value is different\n",
    "# than 'project_root_node_input_id' column value\n",
    "annotations_df.loc[annotations_df.project_node_input_id != annotations_df.project_root_node_input_id].shape"
   ]
  },
  {
   "cell_type": "code",
   "execution_count": null,
   "id": "90f07d1d",
   "metadata": {},
   "outputs": [],
   "source": [
    "annotations_df.workpackage_total_size.unique() # shows unique values in workpackage_total_size column"
   ]
  },
  {
   "cell_type": "code",
   "execution_count": null,
   "id": "b1f89c36",
   "metadata": {},
   "outputs": [],
   "source": [
    "annotations_df.loss.unique() # shows unique values in loss column"
   ]
  },
  {
   "cell_type": "code",
   "execution_count": null,
   "id": "9761a168",
   "metadata": {
    "scrolled": true
   },
   "outputs": [],
   "source": [
    "annotations_df.user_vendor_id.unique() # shows unique values in user_vendor_id column"
   ]
  },
  {
   "cell_type": "code",
   "execution_count": null,
   "id": "a525443f",
   "metadata": {
    "scrolled": true
   },
   "outputs": [],
   "source": [
    "annotations_df.columns"
   ]
  },
  {
   "cell_type": "code",
   "execution_count": null,
   "id": "753d6243",
   "metadata": {},
   "outputs": [],
   "source": [
    "only_columns = ['created_at', 'workpackage_total_size', 'project_node_input_id',\n",
    "       'project_node_output_id', 'task_input_image_url', 'task_output_answer', 'task_output_cant_solve',\n",
    "       'task_output_corrupt_data', 'task_output_duration_ms', 'user_vendor_id',\n",
    "       'user_id', 'user_vendor_user_id']"
   ]
  },
  {
   "cell_type": "code",
   "execution_count": null,
   "id": "48789466",
   "metadata": {},
   "outputs": [],
   "source": [
    "len(only_columns)"
   ]
  },
  {
   "cell_type": "code",
   "execution_count": null,
   "id": "81cffbc0",
   "metadata": {},
   "outputs": [],
   "source": [
    "annotations_df = annotations_df[only_columns]"
   ]
  },
  {
   "cell_type": "code",
   "execution_count": null,
   "id": "7869be2e",
   "metadata": {
    "scrolled": true
   },
   "outputs": [],
   "source": [
    "annotations_df.head()"
   ]
  },
  {
   "cell_type": "code",
   "execution_count": null,
   "id": "771e3e41",
   "metadata": {},
   "outputs": [],
   "source": [
    "annotations_df.sample()"
   ]
  },
  {
   "cell_type": "code",
   "execution_count": null,
   "id": "50241be3",
   "metadata": {},
   "outputs": [],
   "source": [
    "annotations_df.info(memory_usage='deep')"
   ]
  },
  {
   "cell_type": "code",
   "execution_count": null,
   "id": "3a74434a",
   "metadata": {},
   "outputs": [],
   "source": [
    "annotations_df.created_at.dtype"
   ]
  },
  {
   "cell_type": "code",
   "execution_count": null,
   "id": "d3a673fb",
   "metadata": {
    "scrolled": true
   },
   "outputs": [],
   "source": [
    "annotations_df.created_at.head()"
   ]
  },
  {
   "cell_type": "code",
   "execution_count": null,
   "id": "dcdb4ac6",
   "metadata": {},
   "outputs": [],
   "source": [
    "pd.to_datetime(annotations_df.created_at).head()"
   ]
  },
  {
   "cell_type": "code",
   "execution_count": null,
   "id": "4758d52a",
   "metadata": {},
   "outputs": [],
   "source": [
    "annotations_df['created_at_datetime'] = pd.to_datetime(annotations_df['created_at'])"
   ]
  },
  {
   "cell_type": "code",
   "execution_count": null,
   "id": "7727b7c4",
   "metadata": {},
   "outputs": [],
   "source": [
    "annotations_df.head()"
   ]
  },
  {
   "cell_type": "code",
   "execution_count": null,
   "id": "18591caf",
   "metadata": {},
   "outputs": [],
   "source": [
    "annotations_df.info(memory_usage='deep')"
   ]
  },
  {
   "cell_type": "markdown",
   "id": "a240d24c",
   "metadata": {},
   "source": [
    "# Tasks:"
   ]
  },
  {
   "cell_type": "markdown",
   "id": "1082a4cf",
   "metadata": {},
   "source": [
    "## Task 1:"
   ]
  },
  {
   "cell_type": "markdown",
   "id": "7d743a7c",
   "metadata": {},
   "source": [
    "1. a)"
   ]
  },
  {
   "cell_type": "code",
   "execution_count": null,
   "id": "4cd71765",
   "metadata": {
    "scrolled": true
   },
   "outputs": [],
   "source": [
    "annotations_df.user_vendor_user_id.nunique() # user_id "
   ]
  },
  {
   "cell_type": "code",
   "execution_count": null,
   "id": "e0423988",
   "metadata": {
    "scrolled": true
   },
   "outputs": [],
   "source": [
    "annotations_df.sort_values(by='user_vendor_user_id').user_vendor_user_id.unique()"
   ]
  },
  {
   "cell_type": "markdown",
   "id": "b9874fe6",
   "metadata": {},
   "source": [
    "1. b)"
   ]
  },
  {
   "cell_type": "code",
   "execution_count": null,
   "id": "e5887628",
   "metadata": {
    "scrolled": false
   },
   "outputs": [],
   "source": [
    "annotations_df.task_output_duration_ms.describe()"
   ]
  },
  {
   "cell_type": "code",
   "execution_count": null,
   "id": "fa1139d3",
   "metadata": {},
   "outputs": [],
   "source": [
    "annotations_df.task_output_duration_ms.min() # less than a 1 ms or invalid value?"
   ]
  },
  {
   "cell_type": "code",
   "execution_count": null,
   "id": "e1a84889",
   "metadata": {
    "scrolled": true
   },
   "outputs": [],
   "source": [
    "annotations_df.task_output_duration_ms[annotations_df.task_output_duration_ms > 0].describe()"
   ]
  },
  {
   "cell_type": "code",
   "execution_count": null,
   "id": "76862998",
   "metadata": {},
   "outputs": [],
   "source": [
    "min_duration_time = annotations_df.task_output_duration_ms[annotations_df.task_output_duration_ms > 0].min()\n",
    "min_duration_time"
   ]
  },
  {
   "cell_type": "code",
   "execution_count": null,
   "id": "4b4afabe",
   "metadata": {},
   "outputs": [],
   "source": [
    "max_duration_time = annotations_df.task_output_duration_ms.max()\n",
    "max_duration_time"
   ]
  },
  {
   "cell_type": "code",
   "execution_count": null,
   "id": "f04fbd03",
   "metadata": {},
   "outputs": [],
   "source": [
    "average_duration_time = \\\n",
    "                    annotations_df.task_output_duration_ms[annotations_df.task_output_duration_ms > 0].mean()\n",
    "average_duration_time"
   ]
  },
  {
   "cell_type": "code",
   "execution_count": null,
   "id": "dfe5d910",
   "metadata": {},
   "outputs": [],
   "source": [
    "annotations_df.task_output_duration_ms[annotations_df.task_output_duration_ms <500].count()"
   ]
  },
  {
   "cell_type": "code",
   "execution_count": null,
   "id": "872a8045",
   "metadata": {
    "scrolled": true
   },
   "outputs": [],
   "source": [
    "hist_plot = annotations_df.task_output_duration_ms.plot.hist(bins=(range(500, 4000, 100)), \\\n",
    "                                                              by=annotations_df.task_output_duration_ms,figsize=(14,8), grid = True)\n",
    "hist_plot.set_title('Frequency of duration(ms)', weight='bold')\n",
    "hist_plot.set_ylabel('Frequancy', weight='bold', size = 10)\n",
    "hist_plot.set_xlabel('Duration (ms)', weight='bold', size=10)"
   ]
  },
  {
   "cell_type": "code",
   "execution_count": null,
   "id": "ab0c9498",
   "metadata": {},
   "outputs": [],
   "source": [
    "hist_plot.figure.savefig('duration_hist_plot.png')"
   ]
  },
  {
   "cell_type": "code",
   "execution_count": null,
   "id": "7498f7b7",
   "metadata": {},
   "outputs": [],
   "source": [
    "annotations_df.columns"
   ]
  },
  {
   "cell_type": "code",
   "execution_count": null,
   "id": "1b040b72",
   "metadata": {},
   "outputs": [],
   "source": [
    "duration_barh_plot = annotations_df[annotations_df.task_output_duration_ms>0\\\n",
    "                                   ].groupby(['user_vendor_user_id']).task_output_duration_ms.mean()\\\n",
    "                                    .sort_values(ascending=False).plot.barh(figsize =(14,8))\n",
    "duration_barh_plot.set_title('The ranking of annotators by the average duration (ms ) needed to answer the questions', \\\n",
    "                            weight='bold', size = 14)\n",
    "duration_barh_plot.set_xlabel('Duration (ms)', weight='bold', size = 10)\n",
    "duration_barh_plot.set_ylabel('Annotators', weight='bold', size = 10)"
   ]
  },
  {
   "cell_type": "code",
   "execution_count": null,
   "id": "710e293d",
   "metadata": {},
   "outputs": [],
   "source": [
    "duration_barh_plot.figure.savefig('duration_ranking_plot.png')"
   ]
  },
  {
   "cell_type": "markdown",
   "id": "0388acb2",
   "metadata": {},
   "source": [
    "1. c)"
   ]
  },
  {
   "cell_type": "code",
   "execution_count": null,
   "id": "bd0affee",
   "metadata": {},
   "outputs": [],
   "source": [
    "annotations_df.head()"
   ]
  },
  {
   "cell_type": "code",
   "execution_count": null,
   "id": "e568a087",
   "metadata": {},
   "outputs": [],
   "source": [
    "annotations_df.groupby('user_vendor_user_id').task_output_answer.count().sort_values(ascending =False)"
   ]
  },
  {
   "cell_type": "code",
   "execution_count": null,
   "id": "f766b5b9",
   "metadata": {
    "scrolled": true
   },
   "outputs": [],
   "source": [
    "ann_count_plot = annotations_df.groupby('user_vendor_user_id').task_output_answer.count().sort_values().plot(kind='barh', figsize=(14,8), width=0.5, grid=True)\n",
    "ann_count_plot.set_title('Ranking of annotators by the number of answers to questions', weight='bold', size = 14)\n",
    "ann_count_plot.set_xlabel('Questions answered count', weight='bold', size = 10)\n",
    "ann_count_plot.set_ylabel('Annotators', weight='bold', size = 10)"
   ]
  },
  {
   "cell_type": "code",
   "execution_count": null,
   "id": "e60833b0",
   "metadata": {},
   "outputs": [],
   "source": [
    "ann_count_plot.figure.savefig('annotators_answers_count_plot.png')"
   ]
  },
  {
   "cell_type": "markdown",
   "id": "aaf516e3",
   "metadata": {},
   "source": [
    "1. d)"
   ]
  },
  {
   "cell_type": "code",
   "execution_count": null,
   "id": "3035b8cd",
   "metadata": {},
   "outputs": [],
   "source": [
    "annotations_df.columns"
   ]
  },
  {
   "cell_type": "code",
   "execution_count": null,
   "id": "5b030df7",
   "metadata": {},
   "outputs": [],
   "source": [
    "annotations_df['image_name'] = annotations_df.task_input_image_url.apply(lambda x: x[(x.rfind('/')+1) : (x.rfind('.'))])"
   ]
  },
  {
   "cell_type": "code",
   "execution_count": null,
   "id": "d234bc10",
   "metadata": {
    "scrolled": true
   },
   "outputs": [],
   "source": [
    "annotations_df.head()"
   ]
  },
  {
   "cell_type": "code",
   "execution_count": null,
   "id": "d4a19e67",
   "metadata": {
    "scrolled": true
   },
   "outputs": [],
   "source": [
    "annotations_df.groupby('image_name').task_output_answer.count()"
   ]
  },
  {
   "cell_type": "code",
   "execution_count": null,
   "id": "d8a4da9c",
   "metadata": {
    "scrolled": true
   },
   "outputs": [],
   "source": [
    "annotations_df[['image_name', 'task_output_answer']].groupby('image_name').head()"
   ]
  },
  {
   "cell_type": "code",
   "execution_count": null,
   "id": "39739358",
   "metadata": {},
   "outputs": [],
   "source": [
    "task_answer_df = annotations_df[['image_name', 'task_output_answer']].groupby('image_name').apply(lambda x: x) "
   ]
  },
  {
   "cell_type": "code",
   "execution_count": null,
   "id": "afde8876",
   "metadata": {
    "scrolled": true
   },
   "outputs": [],
   "source": [
    "task_answer_df.columns"
   ]
  },
  {
   "cell_type": "code",
   "execution_count": null,
   "id": "a0dddf70",
   "metadata": {
    "scrolled": false
   },
   "outputs": [],
   "source": [
    "task_answer_df.head()"
   ]
  },
  {
   "cell_type": "code",
   "execution_count": null,
   "id": "0dadef6c",
   "metadata": {},
   "outputs": [],
   "source": [
    "highly_disagree_questions_df = pd.DataFrame(task_answer_df.groupby('image_name').task_output_answer.value_counts('yes')==0.5)"
   ]
  },
  {
   "cell_type": "code",
   "execution_count": null,
   "id": "9207128b",
   "metadata": {},
   "outputs": [],
   "source": [
    "highly_disagree_questions_df.sample()"
   ]
  },
  {
   "cell_type": "code",
   "execution_count": null,
   "id": "294f6761",
   "metadata": {},
   "outputs": [],
   "source": [
    "#highly_disagree_questions_df = highly_disagree_questions.query('task_output_answer == True')"
   ]
  },
  {
   "cell_type": "code",
   "execution_count": null,
   "id": "7eb905e0",
   "metadata": {
    "scrolled": true
   },
   "outputs": [],
   "source": [
    "highly_disagree_questions_df = highly_disagree_questions_df.query('task_output_answer == True')"
   ]
  },
  {
   "cell_type": "code",
   "execution_count": null,
   "id": "83e896b4",
   "metadata": {},
   "outputs": [],
   "source": [
    "highly_disagree_questions_df.sample(10)"
   ]
  },
  {
   "cell_type": "code",
   "execution_count": null,
   "id": "415ff025",
   "metadata": {
    "scrolled": false
   },
   "outputs": [],
   "source": [
    "highly_disagree_questions_df.index.unique(level='image_name')"
   ]
  },
  {
   "cell_type": "code",
   "execution_count": null,
   "id": "e9406b7a",
   "metadata": {},
   "outputs": [],
   "source": [
    "# tasks (questions) count where there were highly disagreements between annotators\n",
    "highly_disagree_questions_df.index.unique(level='image_name').nunique()"
   ]
  },
  {
   "cell_type": "code",
   "execution_count": null,
   "id": "5ece0b04",
   "metadata": {},
   "outputs": [],
   "source": [
    "annotations_df.columns"
   ]
  },
  {
   "cell_type": "code",
   "execution_count": null,
   "id": "30677377",
   "metadata": {},
   "outputs": [],
   "source": [
    "# show all answers for a particular task where there were disagreements\n",
    "annotations_df[annotations_df.image_name == 'img_6324'].loc[:,['image_name','task_output_answer']].to_excel('disagree_sample.xlsx')"
   ]
  },
  {
   "cell_type": "markdown",
   "id": "c0cedb24",
   "metadata": {},
   "source": [
    "## Task 2."
   ]
  },
  {
   "cell_type": "code",
   "execution_count": null,
   "id": "7800a070",
   "metadata": {},
   "outputs": [],
   "source": [
    "annotations_df.head()"
   ]
  },
  {
   "cell_type": "code",
   "execution_count": null,
   "id": "c3248eda",
   "metadata": {},
   "outputs": [],
   "source": [
    "# can't solve cases\n",
    "annotations_df.task_output_cant_solve.eq(True).sum()"
   ]
  },
  {
   "cell_type": "code",
   "execution_count": null,
   "id": "54701522",
   "metadata": {},
   "outputs": [],
   "source": [
    "# corrupt data cases\n",
    "annotations_df.task_output_corrupt_data.eq(True).sum()"
   ]
  },
  {
   "cell_type": "code",
   "execution_count": null,
   "id": "0d9cd8f0",
   "metadata": {},
   "outputs": [],
   "source": [
    "corrupt_cantsolve_df = \\\n",
    "annotations_df.loc[annotations_df.task_output_cant_solve.eq(True) | annotations_df.task_output_corrupt_data.eq(True)]"
   ]
  },
  {
   "cell_type": "code",
   "execution_count": null,
   "id": "57933b91",
   "metadata": {
    "scrolled": true
   },
   "outputs": [],
   "source": [
    "corrupt_cantsolve_df.sort_values('image_name')"
   ]
  },
  {
   "cell_type": "code",
   "execution_count": null,
   "id": "85f012ef",
   "metadata": {
    "scrolled": true
   },
   "outputs": [],
   "source": [
    "corrupt_cantsolve_df.task_output_duration_ms.plot.line()"
   ]
  },
  {
   "cell_type": "code",
   "execution_count": null,
   "id": "01b5f06b",
   "metadata": {},
   "outputs": [],
   "source": [
    "corrupt_cantsolve_df.sort_values('image_name')[['task_output_answer','task_output_cant_solve', 'task_output_corrupt_data', 'task_output_duration_ms', 'user_vendor_id', 'user_vendor_user_id', 'created_at_datetime', 'image_name']].to_csv(\"corr_cantsolve.csv\")"
   ]
  },
  {
   "cell_type": "markdown",
   "id": "9f8395c3",
   "metadata": {},
   "source": [
    "## Task 3"
   ]
  },
  {
   "cell_type": "markdown",
   "id": "5cd32e60",
   "metadata": {},
   "source": [
    "Read the references json"
   ]
  },
  {
   "cell_type": "code",
   "execution_count": null,
   "id": "6136fcc3",
   "metadata": {},
   "outputs": [],
   "source": [
    "references_df = pd.read_json(references_filepath)"
   ]
  },
  {
   "cell_type": "code",
   "execution_count": null,
   "id": "eb892b35",
   "metadata": {},
   "outputs": [],
   "source": [
    "type(references_df)"
   ]
  },
  {
   "cell_type": "code",
   "execution_count": null,
   "id": "591aeecd",
   "metadata": {},
   "outputs": [],
   "source": [
    "references_df.head()"
   ]
  },
  {
   "cell_type": "code",
   "execution_count": null,
   "id": "cb8c9ae8",
   "metadata": {},
   "outputs": [],
   "source": [
    "annotations_df.image_name.nunique()"
   ]
  },
  {
   "cell_type": "code",
   "execution_count": null,
   "id": "f966f806",
   "metadata": {},
   "outputs": [],
   "source": [
    "references_df.columns.nunique() # columns are the image names"
   ]
  },
  {
   "cell_type": "code",
   "execution_count": null,
   "id": "894658ef",
   "metadata": {},
   "outputs": [],
   "source": [
    "# check if every image name from annotations df is present in references df as well\n",
    "annotations_df.image_name.apply(lambda image_name: image_name in references_df.columns).eq(False).sum()"
   ]
  },
  {
   "cell_type": "code",
   "execution_count": null,
   "id": "7ca90c2d",
   "metadata": {
    "scrolled": false
   },
   "outputs": [],
   "source": [
    "references_df.iloc[0].unique() # check if there are other values than True or False"
   ]
  },
  {
   "cell_type": "code",
   "execution_count": null,
   "id": "0d521d09",
   "metadata": {},
   "outputs": [],
   "source": [
    "references_df.dtypes"
   ]
  },
  {
   "cell_type": "code",
   "execution_count": null,
   "id": "7ccc8e77",
   "metadata": {},
   "outputs": [],
   "source": [
    "True_values_count = 0\n",
    "False_values_count = 0\n",
    "for column_name, item in references_df.iteritems():\n",
    "    if item.bool() == True:\n",
    "        True_values_count +=1\n",
    "    else:\n",
    "        False_values_count+=1"
   ]
  },
  {
   "cell_type": "code",
   "execution_count": null,
   "id": "06cc411d",
   "metadata": {
    "scrolled": true
   },
   "outputs": [],
   "source": [
    "print(True_values_count)\n",
    "print(False_values_count)"
   ]
  },
  {
   "cell_type": "code",
   "execution_count": null,
   "id": "b438e3c9",
   "metadata": {},
   "outputs": [],
   "source": [
    "d = {\n",
    "    'NAME':['True Values', 'False Values'],\n",
    "    'Correct_Answers':[True_values_count, False_values_count]\n",
    "}"
   ]
  },
  {
   "cell_type": "code",
   "execution_count": null,
   "id": "5585a4e7",
   "metadata": {},
   "outputs": [],
   "source": [
    "ref_bool_count = pd.DataFrame.from_dict(data = d)"
   ]
  },
  {
   "cell_type": "code",
   "execution_count": null,
   "id": "fcda9911",
   "metadata": {
    "scrolled": true
   },
   "outputs": [],
   "source": [
    "references_plot = ref_bool_count.plot.pie(title=\"Reference True False Balance\",y='Correct_Answers', labels=['True', 'False'], figsize=(10,6))\n"
   ]
  },
  {
   "cell_type": "code",
   "execution_count": null,
   "id": "a6a4191a",
   "metadata": {},
   "outputs": [],
   "source": [
    "references_plot.figure.savefig('reference_balance.png')"
   ]
  },
  {
   "cell_type": "code",
   "execution_count": null,
   "id": "5a8f6c15",
   "metadata": {},
   "outputs": [],
   "source": [
    "\"\"\"\n",
    "The reference set is balanced because it contains approximately the same amount of True images with False images.\n",
    "\"\"\""
   ]
  },
  {
   "cell_type": "markdown",
   "id": "92e68153",
   "metadata": {},
   "source": [
    "## Task 4"
   ]
  },
  {
   "cell_type": "code",
   "execution_count": null,
   "id": "98c3afe2",
   "metadata": {},
   "outputs": [],
   "source": [
    "# create a new column named 'correct_answer' with values from references dataset\n",
    "annotations_df['correct_answer'] = annotations_df.image_name.apply(lambda x: references_df[x].iloc[0])"
   ]
  },
  {
   "cell_type": "code",
   "execution_count": null,
   "id": "865eac1f",
   "metadata": {},
   "outputs": [],
   "source": [
    "annotations_df['answer_bool'] = annotations_df.task_output_answer.apply(lambda x: True if (x=='yes') else False)"
   ]
  },
  {
   "cell_type": "code",
   "execution_count": null,
   "id": "fcf14b73",
   "metadata": {},
   "outputs": [],
   "source": [
    "annotations_df['is_correct'] = np.where(annotations_df['answer_bool'] == annotations_df['correct_answer'], True, False)"
   ]
  },
  {
   "cell_type": "code",
   "execution_count": null,
   "id": "26df2ff4",
   "metadata": {
    "scrolled": true
   },
   "outputs": [],
   "source": [
    "annotations_df.groupby('user_vendor_user_id').answer_bool.count()"
   ]
  },
  {
   "cell_type": "code",
   "execution_count": null,
   "id": "489db665",
   "metadata": {},
   "outputs": [],
   "source": [
    "annotations_df.shape"
   ]
  },
  {
   "cell_type": "code",
   "execution_count": null,
   "id": "b24e34ed",
   "metadata": {},
   "outputs": [],
   "source": [
    "annotators_rating = pd.DataFrame(annotations_df.groupby('user_vendor_user_id').is_correct.value_counts(True)*100)"
   ]
  },
  {
   "cell_type": "code",
   "execution_count": null,
   "id": "1ea49a7f",
   "metadata": {},
   "outputs": [],
   "source": [
    "annotators_rating.head(10)"
   ]
  },
  {
   "cell_type": "code",
   "execution_count": null,
   "id": "415870f9",
   "metadata": {
    "scrolled": true
   },
   "outputs": [],
   "source": [
    "a = annotations_df.loc[annotations_df.user_vendor_user_id == 'annotator_18'].is_correct.eq(True).sum()\n",
    "b= annotations_df.loc[annotations_df.user_vendor_user_id == 'annotator_18'].is_correct.count()\n",
    "a*100/b"
   ]
  },
  {
   "cell_type": "code",
   "execution_count": null,
   "id": "68aaf11b",
   "metadata": {},
   "outputs": [],
   "source": [
    "annotations_df.head()"
   ]
  },
  {
   "cell_type": "code",
   "execution_count": null,
   "id": "dd3ae75b",
   "metadata": {},
   "outputs": [],
   "source": [
    "temp_ser = annotations_df.groupby(['user_vendor_user_id', 'is_correct']).is_correct.count()"
   ]
  },
  {
   "cell_type": "code",
   "execution_count": null,
   "id": "770a2c65",
   "metadata": {},
   "outputs": [],
   "source": [
    "temp_ser.index"
   ]
  },
  {
   "cell_type": "code",
   "execution_count": null,
   "id": "baca1bfe",
   "metadata": {},
   "outputs": [],
   "source": [
    "is_correct_df = temp_ser.unstack()"
   ]
  },
  {
   "cell_type": "code",
   "execution_count": null,
   "id": "0c7fa599",
   "metadata": {
    "scrolled": false
   },
   "outputs": [],
   "source": [
    "is_correct_df.head()"
   ]
  },
  {
   "cell_type": "code",
   "execution_count": null,
   "id": "4a6ca0c9",
   "metadata": {
    "scrolled": true
   },
   "outputs": [],
   "source": [
    "is_correct_df.loc['annotator_01']"
   ]
  },
  {
   "cell_type": "code",
   "execution_count": null,
   "id": "1400e97a",
   "metadata": {},
   "outputs": [],
   "source": [
    "is_correct_df.dtypes"
   ]
  },
  {
   "cell_type": "code",
   "execution_count": null,
   "id": "6e79d235",
   "metadata": {
    "scrolled": true
   },
   "outputs": [],
   "source": [
    "is_correct_df.loc[:, 'correctness_percentage'] = is_correct_df.loc[:,True]*100/(is_correct_df.loc[:,True]+is_correct_df.loc[:,False])"
   ]
  },
  {
   "cell_type": "code",
   "execution_count": null,
   "id": "97c44960",
   "metadata": {},
   "outputs": [],
   "source": [
    "is_correct_df"
   ]
  },
  {
   "cell_type": "code",
   "execution_count": null,
   "id": "ba75983e",
   "metadata": {},
   "outputs": [],
   "source": [
    "is_correct_df.loc['annotator_01'][True]"
   ]
  },
  {
   "cell_type": "code",
   "execution_count": null,
   "id": "04c83ead",
   "metadata": {},
   "outputs": [],
   "source": [
    "correctness_perc_plot = is_correct_df.sort_values(by='correctness_percentage').correctness_percentage.plot(kind='barh', grid=True,figsize = (14,8), xlim=(85,100))\n",
    "correctness_perc_plot.set_title(\"The percentage of correct answers given by annotators\", weight='bold', size=14)\n",
    "correctness_perc_plot.set_xlabel('Percentage %', weight='bold', size = 10)\n",
    "correctness_perc_plot.set_ylabel('Annotators', weight='bold', size=10)"
   ]
  },
  {
   "cell_type": "code",
   "execution_count": null,
   "id": "05e6aec2",
   "metadata": {},
   "outputs": [],
   "source": [
    "correctness_perc_plot.figure.savefig('corectness_perc_plot.png')"
   ]
  },
  {
   "cell_type": "code",
   "execution_count": null,
   "id": "5b3ec5e2",
   "metadata": {},
   "outputs": [],
   "source": []
  }
 ],
 "metadata": {
  "kernelspec": {
   "display_name": "Python 3",
   "language": "python",
   "name": "python3"
  },
  "language_info": {
   "codemirror_mode": {
    "name": "ipython",
    "version": 3
   },
   "file_extension": ".py",
   "mimetype": "text/x-python",
   "name": "python",
   "nbconvert_exporter": "python",
   "pygments_lexer": "ipython3",
   "version": "3.7.10"
  }
 },
 "nbformat": 4,
 "nbformat_minor": 5
}
